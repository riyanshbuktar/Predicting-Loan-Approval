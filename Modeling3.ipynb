{
 "cells": [
  {
   "cell_type": "markdown",
   "metadata": {
    "id": "qMCxFOXmzL8x"
   },
   "source": [
    "# **Understand The Dataset**\n",
    "\n"
   ]
  },
  {
   "cell_type": "code",
   "execution_count": 1,
   "metadata": {
    "id": "uso1BCzDzd38"
   },
   "outputs": [],
   "source": [
    "import pandas as pd\n",
    "import numpy as np"
   ]
  },
  {
   "cell_type": "code",
   "execution_count": 2,
   "metadata": {
    "id": "urYs-aP1zntC"
   },
   "outputs": [],
   "source": [
    "df_combined = pd.read_csv('Lending_Clubs_loan_approval_optimization.csv')"
   ]
  },
  {
   "cell_type": "code",
   "execution_count": 3,
   "metadata": {
    "colab": {
     "base_uri": "https://localhost:8080/",
     "height": 204
    },
    "id": "6OPy-pvZzugs",
    "outputId": "70cc19fe-4223-4c47-f659-5f1250b85ee8"
   },
   "outputs": [
    {
     "data": {
      "text/html": [
       "<div>\n",
       "<style scoped>\n",
       "    .dataframe tbody tr th:only-of-type {\n",
       "        vertical-align: middle;\n",
       "    }\n",
       "\n",
       "    .dataframe tbody tr th {\n",
       "        vertical-align: top;\n",
       "    }\n",
       "\n",
       "    .dataframe thead th {\n",
       "        text-align: right;\n",
       "    }\n",
       "</style>\n",
       "<table border=\"1\" class=\"dataframe\">\n",
       "  <thead>\n",
       "    <tr style=\"text-align: right;\">\n",
       "      <th></th>\n",
       "      <th>Unnamed: 0</th>\n",
       "      <th>Amount Requested</th>\n",
       "      <th>Risk_Score</th>\n",
       "      <th>Debt-To-Income Ratio</th>\n",
       "      <th>Employment Length</th>\n",
       "      <th>Target</th>\n",
       "    </tr>\n",
       "  </thead>\n",
       "  <tbody>\n",
       "    <tr>\n",
       "      <th>0</th>\n",
       "      <td>0</td>\n",
       "      <td>3600.0</td>\n",
       "      <td>677.0</td>\n",
       "      <td>5.91</td>\n",
       "      <td>10</td>\n",
       "      <td>1</td>\n",
       "    </tr>\n",
       "    <tr>\n",
       "      <th>1</th>\n",
       "      <td>1</td>\n",
       "      <td>24700.0</td>\n",
       "      <td>717.0</td>\n",
       "      <td>16.06</td>\n",
       "      <td>10</td>\n",
       "      <td>1</td>\n",
       "    </tr>\n",
       "    <tr>\n",
       "      <th>2</th>\n",
       "      <td>2</td>\n",
       "      <td>20000.0</td>\n",
       "      <td>697.0</td>\n",
       "      <td>10.78</td>\n",
       "      <td>10</td>\n",
       "      <td>1</td>\n",
       "    </tr>\n",
       "    <tr>\n",
       "      <th>3</th>\n",
       "      <td>3</td>\n",
       "      <td>10400.0</td>\n",
       "      <td>697.0</td>\n",
       "      <td>25.37</td>\n",
       "      <td>3</td>\n",
       "      <td>1</td>\n",
       "    </tr>\n",
       "    <tr>\n",
       "      <th>4</th>\n",
       "      <td>4</td>\n",
       "      <td>11950.0</td>\n",
       "      <td>692.0</td>\n",
       "      <td>10.20</td>\n",
       "      <td>4</td>\n",
       "      <td>1</td>\n",
       "    </tr>\n",
       "  </tbody>\n",
       "</table>\n",
       "</div>"
      ],
      "text/plain": [
       "   Unnamed: 0  Amount Requested  Risk_Score  Debt-To-Income Ratio  \\\n",
       "0           0            3600.0       677.0                  5.91   \n",
       "1           1           24700.0       717.0                 16.06   \n",
       "2           2           20000.0       697.0                 10.78   \n",
       "3           3           10400.0       697.0                 25.37   \n",
       "4           4           11950.0       692.0                 10.20   \n",
       "\n",
       "   Employment Length  Target  \n",
       "0                 10       1  \n",
       "1                 10       1  \n",
       "2                 10       1  \n",
       "3                  3       1  \n",
       "4                  4       1  "
      ]
     },
     "execution_count": 3,
     "metadata": {},
     "output_type": "execute_result"
    }
   ],
   "source": [
    "df_combined.head()"
   ]
  },
  {
   "cell_type": "code",
   "execution_count": 4,
   "metadata": {
    "colab": {
     "base_uri": "https://localhost:8080/"
    },
    "id": "wWowVYp3zx5W",
    "outputId": "436adb3c-d885-49c6-fe81-112328d40c43"
   },
   "outputs": [
    {
     "data": {
      "text/plain": [
       "(2072806, 6)"
      ]
     },
     "execution_count": 4,
     "metadata": {},
     "output_type": "execute_result"
    }
   ],
   "source": [
    "df_combined.shape"
   ]
  },
  {
   "cell_type": "code",
   "execution_count": 5,
   "metadata": {
    "colab": {
     "base_uri": "https://localhost:8080/"
    },
    "id": "pI1HbdrCz_4J",
    "outputId": "1fa5a62c-c7a3-4a2b-8e41-0bee23aaf34a"
   },
   "outputs": [
    {
     "data": {
      "text/plain": [
       "Index(['Unnamed: 0', 'Amount Requested', 'Risk_Score', 'Debt-To-Income Ratio',\n",
       "       'Employment Length', 'Target'],\n",
       "      dtype='object')"
      ]
     },
     "execution_count": 5,
     "metadata": {},
     "output_type": "execute_result"
    }
   ],
   "source": [
    "df_combined.columns"
   ]
  },
  {
   "cell_type": "code",
   "execution_count": 6,
   "metadata": {
    "colab": {
     "base_uri": "https://localhost:8080/"
    },
    "id": "n98RvULF0EYh",
    "outputId": "fe954b61-f461-489d-da9c-f52c907935f6"
   },
   "outputs": [
    {
     "data": {
      "text/plain": [
       "<bound method DataFrame.value_counts of          Unnamed: 0  Amount Requested  Risk_Score  Debt-To-Income Ratio  \\\n",
       "0                 0            3600.0       677.0                  5.91   \n",
       "1                 1           24700.0       717.0                 16.06   \n",
       "2                 2           20000.0       697.0                 10.78   \n",
       "3                 3           10400.0       697.0                 25.37   \n",
       "4                 4           11950.0       692.0                 10.20   \n",
       "...             ...               ...         ...                   ...   \n",
       "2072801     2072801           20000.0       680.0                 45.15   \n",
       "2072802     2072802           20000.0       602.0                 15.87   \n",
       "2072803     2072803            6000.0       667.0                 63.74   \n",
       "2072804     2072804            3000.0       602.0                 14.82   \n",
       "2072805     2072805           15000.0       621.0                 35.88   \n",
       "\n",
       "         Employment Length  Target  \n",
       "0                       10       1  \n",
       "1                       10       1  \n",
       "2                       10       1  \n",
       "3                        3       1  \n",
       "4                        4       1  \n",
       "...                    ...     ...  \n",
       "2072801                  0       0  \n",
       "2072802                  0       0  \n",
       "2072803                  5       0  \n",
       "2072804                  0       0  \n",
       "2072805                  0       0  \n",
       "\n",
       "[2072806 rows x 6 columns]>"
      ]
     },
     "execution_count": 6,
     "metadata": {},
     "output_type": "execute_result"
    }
   ],
   "source": [
    "df_combined.value_counts"
   ]
  },
  {
   "cell_type": "markdown",
   "metadata": {
    "id": "Sg9Q22_V0wps"
   },
   "source": [
    "# **Lets Split the Data for training and Testing**\n",
    "\n",
    "---\n",
    "\n",
    "\n",
    "We need to perform Feature Scaling when we are dealing with Gradient Descent Based algorithms (Linear and Logistic Regression, Neural Network) and Distance-based algorithms (KNN, K-means, SVM) as these are very sensitive to the range of the data points"
   ]
  },
  {
   "cell_type": "code",
   "execution_count": 7,
   "metadata": {
    "colab": {
     "base_uri": "https://localhost:8080/",
     "height": 111
    },
    "id": "UiadCt3wBmay",
    "outputId": "297089c7-fc19-4a95-a22c-146be7ed97af"
   },
   "outputs": [
    {
     "data": {
      "text/html": [
       "<div>\n",
       "<style scoped>\n",
       "    .dataframe tbody tr th:only-of-type {\n",
       "        vertical-align: middle;\n",
       "    }\n",
       "\n",
       "    .dataframe tbody tr th {\n",
       "        vertical-align: top;\n",
       "    }\n",
       "\n",
       "    .dataframe thead th {\n",
       "        text-align: right;\n",
       "    }\n",
       "</style>\n",
       "<table border=\"1\" class=\"dataframe\">\n",
       "  <thead>\n",
       "    <tr style=\"text-align: right;\">\n",
       "      <th></th>\n",
       "      <th>Unnamed: 0</th>\n",
       "      <th>Amount Requested</th>\n",
       "      <th>Risk_Score</th>\n",
       "      <th>Debt-To-Income Ratio</th>\n",
       "      <th>Employment Length</th>\n",
       "      <th>Target</th>\n",
       "    </tr>\n",
       "  </thead>\n",
       "  <tbody>\n",
       "    <tr>\n",
       "      <th>0</th>\n",
       "      <td>0</td>\n",
       "      <td>3600.0</td>\n",
       "      <td>677.0</td>\n",
       "      <td>5.91</td>\n",
       "      <td>10</td>\n",
       "      <td>1</td>\n",
       "    </tr>\n",
       "    <tr>\n",
       "      <th>1</th>\n",
       "      <td>1</td>\n",
       "      <td>24700.0</td>\n",
       "      <td>717.0</td>\n",
       "      <td>16.06</td>\n",
       "      <td>10</td>\n",
       "      <td>1</td>\n",
       "    </tr>\n",
       "  </tbody>\n",
       "</table>\n",
       "</div>"
      ],
      "text/plain": [
       "   Unnamed: 0  Amount Requested  Risk_Score  Debt-To-Income Ratio  \\\n",
       "0           0            3600.0       677.0                  5.91   \n",
       "1           1           24700.0       717.0                 16.06   \n",
       "\n",
       "   Employment Length  Target  \n",
       "0                 10       1  \n",
       "1                 10       1  "
      ]
     },
     "execution_count": 7,
     "metadata": {},
     "output_type": "execute_result"
    }
   ],
   "source": [
    "df_combined.head(2)"
   ]
  },
  {
   "cell_type": "code",
   "execution_count": 8,
   "metadata": {
    "colab": {
     "base_uri": "https://localhost:8080/"
    },
    "id": "hFX8HcdEgef7",
    "outputId": "5561982f-6976-4494-9a0c-26cea8c772e6"
   },
   "outputs": [
    {
     "data": {
      "text/plain": [
       "0          1\n",
       "1          1\n",
       "2          1\n",
       "3          1\n",
       "4          1\n",
       "          ..\n",
       "2072801    0\n",
       "2072802    0\n",
       "2072803    0\n",
       "2072804    0\n",
       "2072805    0\n",
       "Name: Target, Length: 2072806, dtype: int64"
      ]
     },
     "execution_count": 8,
     "metadata": {},
     "output_type": "execute_result"
    }
   ],
   "source": [
    "df_combined.Target"
   ]
  },
  {
   "cell_type": "code",
   "execution_count": 9,
   "metadata": {
    "id": "cpLfXoEADJgI"
   },
   "outputs": [],
   "source": [
    "X = df_combined.iloc[:, 1:4]\n",
    "Y = df_combined.iloc[:, 5]"
   ]
  },
  {
   "cell_type": "code",
   "execution_count": 10,
   "metadata": {
    "id": "k4syZqkjgh5s"
   },
   "outputs": [],
   "source": [
    "from sklearn.model_selection import train_test_split"
   ]
  },
  {
   "cell_type": "code",
   "execution_count": 12,
   "metadata": {
    "id": "Rb1mFObsjQLK"
   },
   "outputs": [],
   "source": [
    "X_train , X_test , y_train , y_test = train_test_split(X, Y, test_size = 0.25, random_state = 0)"
   ]
  },
  {
   "cell_type": "code",
   "execution_count": 13,
   "metadata": {
    "colab": {
     "base_uri": "https://localhost:8080/"
    },
    "id": "Aj8zUp2GkHj6",
    "outputId": "cecd6811-9241-4027-c7e8-04f7f9b85b92"
   },
   "outputs": [
    {
     "data": {
      "text/plain": [
       "(518202, 3)"
      ]
     },
     "execution_count": 13,
     "metadata": {},
     "output_type": "execute_result"
    }
   ],
   "source": [
    "X_test.shape"
   ]
  },
  {
   "cell_type": "code",
   "execution_count": 14,
   "metadata": {
    "colab": {
     "base_uri": "https://localhost:8080/"
    },
    "id": "sdW5Wlyak9BJ",
    "outputId": "2ca2c84c-666f-4c51-8328-902647485a75"
   },
   "outputs": [
    {
     "data": {
      "text/plain": [
       "(1554604, 3)"
      ]
     },
     "execution_count": 14,
     "metadata": {},
     "output_type": "execute_result"
    }
   ],
   "source": [
    "X_train.shape"
   ]
  },
  {
   "cell_type": "code",
   "execution_count": 15,
   "metadata": {
    "colab": {
     "base_uri": "https://localhost:8080/"
    },
    "id": "iG5xtFMOlIRR",
    "outputId": "92dcd14b-1a11-4014-8f3b-489affd4f422"
   },
   "outputs": [
    {
     "data": {
      "text/plain": [
       "(518202,)"
      ]
     },
     "execution_count": 15,
     "metadata": {},
     "output_type": "execute_result"
    }
   ],
   "source": [
    "y_test.shape"
   ]
  },
  {
   "cell_type": "code",
   "execution_count": 16,
   "metadata": {
    "colab": {
     "base_uri": "https://localhost:8080/"
    },
    "id": "HD56Cyc4lOEU",
    "outputId": "2abff5f9-42bd-45b1-d3de-cea1f1fcaacd"
   },
   "outputs": [
    {
     "data": {
      "text/plain": [
       "(1554604,)"
      ]
     },
     "execution_count": 16,
     "metadata": {},
     "output_type": "execute_result"
    }
   ],
   "source": [
    "y_train.shape"
   ]
  },
  {
   "cell_type": "markdown",
   "metadata": {
    "id": "CWxZRix8OU68"
   },
   "source": [
    "# **Let's train the our ML model**"
   ]
  },
  {
   "cell_type": "code",
   "execution_count": 17,
   "metadata": {
    "id": "PDQHbitwlsLf"
   },
   "outputs": [],
   "source": [
    "from sklearn.linear_model import LogisticRegression"
   ]
  },
  {
   "cell_type": "code",
   "execution_count": 18,
   "metadata": {
    "id": "yKIX3ZJ9nfNG"
   },
   "outputs": [],
   "source": [
    "lr = LogisticRegression()"
   ]
  },
  {
   "cell_type": "code",
   "execution_count": 20,
   "metadata": {
    "colab": {
     "base_uri": "https://localhost:8080/"
    },
    "id": "iHrORJ-cn3Gm",
    "outputId": "76d12f6b-61c3-4d04-ec45-8279c387cc0a"
   },
   "outputs": [
    {
     "name": "stdout",
     "output_type": "stream",
     "text": [
      "----------------------------------------\n",
      "Accuracy = 0.8528\n",
      "----------------------------------------\n"
     ]
    }
   ],
   "source": [
    "model = LogisticRegression()\n",
    "model.fit(X_train , y_train)\n",
    "pred = model.predict(X_test)\n",
    "print ('-'*40)\n",
    "\n",
    "y_pred = model.predict(X_test)\n",
    "print('Accuracy = %0.4f'%np.mean(y_pred == y_test))\n",
    "# print ('Accuracy of Logistic Regression: {:.3f}'.format(Accuracy_score(pred , y_test)*100))\n",
    "print ('-'*40)"
   ]
  },
  {
   "cell_type": "code",
   "execution_count": 21,
   "metadata": {
    "id": "7Gq0wEWIpVuh"
   },
   "outputs": [],
   "source": [
    "import pickle\n",
    "pickle.dump(model,open('model.pkl','wb'))"
   ]
  },
  {
   "cell_type": "markdown",
   "metadata": {
    "id": "Ys89LHoDUpfC"
   },
   "source": [
    "# **Our model is trained now Successfully now !**"
   ]
  },
  {
   "cell_type": "code",
   "execution_count": null,
   "metadata": {
    "id": "U0-9xXCUU0ya"
   },
   "outputs": [],
   "source": []
  }
 ],
 "metadata": {
  "colab": {
   "collapsed_sections": [],
   "name": "Modeling3.ipynb",
   "provenance": []
  },
  "kernelspec": {
   "display_name": "Python 3",
   "language": "python",
   "name": "python3"
  },
  "language_info": {
   "codemirror_mode": {
    "name": "ipython",
    "version": 3
   },
   "file_extension": ".py",
   "mimetype": "text/x-python",
   "name": "python",
   "nbconvert_exporter": "python",
   "pygments_lexer": "ipython3",
   "version": "3.9.2"
  }
 },
 "nbformat": 4,
 "nbformat_minor": 1
}
