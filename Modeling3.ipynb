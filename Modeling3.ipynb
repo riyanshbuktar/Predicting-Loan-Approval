{
  "nbformat": 4,
  "nbformat_minor": 0,
  "metadata": {
    "colab": {
      "name": "Modeling3.ipynb",
      "provenance": [],
      "collapsed_sections": [],
      "mount_file_id": "1D25Rvj43a8af8dVTpqwhjitVXobRKkAr",
      "authorship_tag": "ABX9TyPiprpd9PUeOwJ8SemSyDVe",
      "include_colab_link": true
    },
    "kernelspec": {
      "name": "python3",
      "display_name": "Python 3"
    },
    "language_info": {
      "name": "python"
    }
  },
  "cells": [
    {
      "cell_type": "markdown",
      "metadata": {
        "id": "view-in-github",
        "colab_type": "text"
      },
      "source": [
        "<a href=\"https://colab.research.google.com/github/riyanshbuktar/Predicting-Loan-Approval/blob/main/Modeling3.ipynb\" target=\"_parent\"><img src=\"https://colab.research.google.com/assets/colab-badge.svg\" alt=\"Open In Colab\"/></a>"
      ]
    },
    {
      "cell_type": "markdown",
      "metadata": {
        "id": "qMCxFOXmzL8x"
      },
      "source": [
        "# **Understand The Dataset**\n",
        "\n"
      ]
    },
    {
      "cell_type": "code",
      "metadata": {
        "id": "uso1BCzDzd38"
      },
      "source": [
        "import pandas as pd\n",
        "import numpy as np"
      ],
      "execution_count": 24,
      "outputs": []
    },
    {
      "cell_type": "code",
      "metadata": {
        "id": "urYs-aP1zntC"
      },
      "source": [
        "df_combined = pd.read_csv('/content/drive/MyDrive/Final Project/Lending_Clubs_loan_approval_optimization.csv')"
      ],
      "execution_count": 25,
      "outputs": []
    },
    {
      "cell_type": "code",
      "metadata": {
        "colab": {
          "base_uri": "https://localhost:8080/",
          "height": 204
        },
        "id": "6OPy-pvZzugs",
        "outputId": "082af75e-de56-4c15-ca8b-f8e6c6512673"
      },
      "source": [
        "df_combined.head()"
      ],
      "execution_count": 26,
      "outputs": [
        {
          "output_type": "execute_result",
          "data": {
            "text/html": [
              "<div>\n",
              "<style scoped>\n",
              "    .dataframe tbody tr th:only-of-type {\n",
              "        vertical-align: middle;\n",
              "    }\n",
              "\n",
              "    .dataframe tbody tr th {\n",
              "        vertical-align: top;\n",
              "    }\n",
              "\n",
              "    .dataframe thead th {\n",
              "        text-align: right;\n",
              "    }\n",
              "</style>\n",
              "<table border=\"1\" class=\"dataframe\">\n",
              "  <thead>\n",
              "    <tr style=\"text-align: right;\">\n",
              "      <th></th>\n",
              "      <th>Unnamed: 0</th>\n",
              "      <th>Amount Requested</th>\n",
              "      <th>Risk_Score</th>\n",
              "      <th>Debt-To-Income Ratio</th>\n",
              "      <th>Employment Length</th>\n",
              "      <th>Target</th>\n",
              "    </tr>\n",
              "  </thead>\n",
              "  <tbody>\n",
              "    <tr>\n",
              "      <th>0</th>\n",
              "      <td>0</td>\n",
              "      <td>3600.0</td>\n",
              "      <td>677.0</td>\n",
              "      <td>5.91</td>\n",
              "      <td>10</td>\n",
              "      <td>1</td>\n",
              "    </tr>\n",
              "    <tr>\n",
              "      <th>1</th>\n",
              "      <td>1</td>\n",
              "      <td>24700.0</td>\n",
              "      <td>717.0</td>\n",
              "      <td>16.06</td>\n",
              "      <td>10</td>\n",
              "      <td>1</td>\n",
              "    </tr>\n",
              "    <tr>\n",
              "      <th>2</th>\n",
              "      <td>2</td>\n",
              "      <td>20000.0</td>\n",
              "      <td>697.0</td>\n",
              "      <td>10.78</td>\n",
              "      <td>10</td>\n",
              "      <td>1</td>\n",
              "    </tr>\n",
              "    <tr>\n",
              "      <th>3</th>\n",
              "      <td>3</td>\n",
              "      <td>10400.0</td>\n",
              "      <td>697.0</td>\n",
              "      <td>25.37</td>\n",
              "      <td>3</td>\n",
              "      <td>1</td>\n",
              "    </tr>\n",
              "    <tr>\n",
              "      <th>4</th>\n",
              "      <td>4</td>\n",
              "      <td>11950.0</td>\n",
              "      <td>692.0</td>\n",
              "      <td>10.20</td>\n",
              "      <td>4</td>\n",
              "      <td>1</td>\n",
              "    </tr>\n",
              "  </tbody>\n",
              "</table>\n",
              "</div>"
            ],
            "text/plain": [
              "   Unnamed: 0  Amount Requested  ...  Employment Length  Target\n",
              "0           0            3600.0  ...                 10       1\n",
              "1           1           24700.0  ...                 10       1\n",
              "2           2           20000.0  ...                 10       1\n",
              "3           3           10400.0  ...                  3       1\n",
              "4           4           11950.0  ...                  4       1\n",
              "\n",
              "[5 rows x 6 columns]"
            ]
          },
          "metadata": {
            "tags": []
          },
          "execution_count": 26
        }
      ]
    },
    {
      "cell_type": "code",
      "metadata": {
        "colab": {
          "base_uri": "https://localhost:8080/"
        },
        "id": "wWowVYp3zx5W",
        "outputId": "4dad37d8-4c3e-460b-a499-ef0abe1f89e4"
      },
      "source": [
        "df_combined.shape"
      ],
      "execution_count": 27,
      "outputs": [
        {
          "output_type": "execute_result",
          "data": {
            "text/plain": [
              "(2072806, 6)"
            ]
          },
          "metadata": {
            "tags": []
          },
          "execution_count": 27
        }
      ]
    },
    {
      "cell_type": "code",
      "metadata": {
        "colab": {
          "base_uri": "https://localhost:8080/"
        },
        "id": "pI1HbdrCz_4J",
        "outputId": "feb9a34c-5ef8-4234-bd04-1b671bea1110"
      },
      "source": [
        "df_combined.columns"
      ],
      "execution_count": 28,
      "outputs": [
        {
          "output_type": "execute_result",
          "data": {
            "text/plain": [
              "Index(['Unnamed: 0', 'Amount Requested', 'Risk_Score', 'Debt-To-Income Ratio',\n",
              "       'Employment Length', 'Target'],\n",
              "      dtype='object')"
            ]
          },
          "metadata": {
            "tags": []
          },
          "execution_count": 28
        }
      ]
    },
    {
      "cell_type": "code",
      "metadata": {
        "colab": {
          "base_uri": "https://localhost:8080/"
        },
        "id": "n98RvULF0EYh",
        "outputId": "783ea140-563d-4e56-8fc8-10a5f1858f00"
      },
      "source": [
        "df_combined.value_counts"
      ],
      "execution_count": 29,
      "outputs": [
        {
          "output_type": "execute_result",
          "data": {
            "text/plain": [
              "<bound method DataFrame.value_counts of          Unnamed: 0  Amount Requested  ...  Employment Length  Target\n",
              "0                 0            3600.0  ...                 10       1\n",
              "1                 1           24700.0  ...                 10       1\n",
              "2                 2           20000.0  ...                 10       1\n",
              "3                 3           10400.0  ...                  3       1\n",
              "4                 4           11950.0  ...                  4       1\n",
              "...             ...               ...  ...                ...     ...\n",
              "2072801     2072801           20000.0  ...                  0       0\n",
              "2072802     2072802           20000.0  ...                  0       0\n",
              "2072803     2072803            6000.0  ...                  5       0\n",
              "2072804     2072804            3000.0  ...                  0       0\n",
              "2072805     2072805           15000.0  ...                  0       0\n",
              "\n",
              "[2072806 rows x 6 columns]>"
            ]
          },
          "metadata": {
            "tags": []
          },
          "execution_count": 29
        }
      ]
    },
    {
      "cell_type": "markdown",
      "metadata": {
        "id": "Sg9Q22_V0wps"
      },
      "source": [
        "# **Lets Split the Data for training and Testing**\n",
        "\n",
        "---\n",
        "\n",
        "\n",
        "We need to perform Feature Scaling when we are dealing with Gradient Descent Based algorithms (Linear and Logistic Regression, Neural Network) and Distance-based algorithms (KNN, K-means, SVM) as these are very sensitive to the range of the data points"
      ]
    },
    {
      "cell_type": "code",
      "metadata": {
        "colab": {
          "base_uri": "https://localhost:8080/",
          "height": 111
        },
        "id": "UiadCt3wBmay",
        "outputId": "2f1dbd7a-3a80-4fa9-ab15-e93752088781"
      },
      "source": [
        "df_combined.head(2)"
      ],
      "execution_count": 30,
      "outputs": [
        {
          "output_type": "execute_result",
          "data": {
            "text/html": [
              "<div>\n",
              "<style scoped>\n",
              "    .dataframe tbody tr th:only-of-type {\n",
              "        vertical-align: middle;\n",
              "    }\n",
              "\n",
              "    .dataframe tbody tr th {\n",
              "        vertical-align: top;\n",
              "    }\n",
              "\n",
              "    .dataframe thead th {\n",
              "        text-align: right;\n",
              "    }\n",
              "</style>\n",
              "<table border=\"1\" class=\"dataframe\">\n",
              "  <thead>\n",
              "    <tr style=\"text-align: right;\">\n",
              "      <th></th>\n",
              "      <th>Unnamed: 0</th>\n",
              "      <th>Amount Requested</th>\n",
              "      <th>Risk_Score</th>\n",
              "      <th>Debt-To-Income Ratio</th>\n",
              "      <th>Employment Length</th>\n",
              "      <th>Target</th>\n",
              "    </tr>\n",
              "  </thead>\n",
              "  <tbody>\n",
              "    <tr>\n",
              "      <th>0</th>\n",
              "      <td>0</td>\n",
              "      <td>3600.0</td>\n",
              "      <td>677.0</td>\n",
              "      <td>5.91</td>\n",
              "      <td>10</td>\n",
              "      <td>1</td>\n",
              "    </tr>\n",
              "    <tr>\n",
              "      <th>1</th>\n",
              "      <td>1</td>\n",
              "      <td>24700.0</td>\n",
              "      <td>717.0</td>\n",
              "      <td>16.06</td>\n",
              "      <td>10</td>\n",
              "      <td>1</td>\n",
              "    </tr>\n",
              "  </tbody>\n",
              "</table>\n",
              "</div>"
            ],
            "text/plain": [
              "   Unnamed: 0  Amount Requested  ...  Employment Length  Target\n",
              "0           0            3600.0  ...                 10       1\n",
              "1           1           24700.0  ...                 10       1\n",
              "\n",
              "[2 rows x 6 columns]"
            ]
          },
          "metadata": {
            "tags": []
          },
          "execution_count": 30
        }
      ]
    },
    {
      "cell_type": "code",
      "metadata": {
        "colab": {
          "base_uri": "https://localhost:8080/"
        },
        "id": "hFX8HcdEgef7",
        "outputId": "bbf32e69-379a-4206-a79c-9c29a3dd4400"
      },
      "source": [
        "df_combined.Target"
      ],
      "execution_count": 31,
      "outputs": [
        {
          "output_type": "execute_result",
          "data": {
            "text/plain": [
              "0          1\n",
              "1          1\n",
              "2          1\n",
              "3          1\n",
              "4          1\n",
              "          ..\n",
              "2072801    0\n",
              "2072802    0\n",
              "2072803    0\n",
              "2072804    0\n",
              "2072805    0\n",
              "Name: Target, Length: 2072806, dtype: int64"
            ]
          },
          "metadata": {
            "tags": []
          },
          "execution_count": 31
        }
      ]
    },
    {
      "cell_type": "code",
      "metadata": {
        "id": "cpLfXoEADJgI"
      },
      "source": [
        "X = df_combined.iloc[:, 1:5]\n",
        "Y = df_combined.iloc[:, 5]"
      ],
      "execution_count": 32,
      "outputs": []
    },
    {
      "cell_type": "code",
      "metadata": {
        "id": "k4syZqkjgh5s"
      },
      "source": [
        "from sklearn.model_selection import train_test_split"
      ],
      "execution_count": 33,
      "outputs": []
    },
    {
      "cell_type": "code",
      "metadata": {
        "id": "Rb1mFObsjQLK"
      },
      "source": [
        "X_train , X_test , y_train , y_test = train_test_split(X, Y, test_size = 0.25, random_state = 0)"
      ],
      "execution_count": 34,
      "outputs": []
    },
    {
      "cell_type": "code",
      "metadata": {
        "colab": {
          "base_uri": "https://localhost:8080/"
        },
        "id": "Aj8zUp2GkHj6",
        "outputId": "d091cd99-89ad-4d1d-f902-ee1e27ab46f1"
      },
      "source": [
        "X_test.shape"
      ],
      "execution_count": 35,
      "outputs": [
        {
          "output_type": "execute_result",
          "data": {
            "text/plain": [
              "(518202, 4)"
            ]
          },
          "metadata": {
            "tags": []
          },
          "execution_count": 35
        }
      ]
    },
    {
      "cell_type": "code",
      "metadata": {
        "colab": {
          "base_uri": "https://localhost:8080/"
        },
        "id": "sdW5Wlyak9BJ",
        "outputId": "7de10c0e-d81c-41ff-d7aa-485d0b690dd7"
      },
      "source": [
        "X_train.shape"
      ],
      "execution_count": 36,
      "outputs": [
        {
          "output_type": "execute_result",
          "data": {
            "text/plain": [
              "(1554604, 4)"
            ]
          },
          "metadata": {
            "tags": []
          },
          "execution_count": 36
        }
      ]
    },
    {
      "cell_type": "code",
      "metadata": {
        "colab": {
          "base_uri": "https://localhost:8080/"
        },
        "id": "iG5xtFMOlIRR",
        "outputId": "4edf3f52-31d4-481d-cac3-7925cae99b96"
      },
      "source": [
        "y_test.shape"
      ],
      "execution_count": 37,
      "outputs": [
        {
          "output_type": "execute_result",
          "data": {
            "text/plain": [
              "(518202,)"
            ]
          },
          "metadata": {
            "tags": []
          },
          "execution_count": 37
        }
      ]
    },
    {
      "cell_type": "code",
      "metadata": {
        "colab": {
          "base_uri": "https://localhost:8080/"
        },
        "id": "HD56Cyc4lOEU",
        "outputId": "121a4e68-c02f-4687-febd-5241b3c5099c"
      },
      "source": [
        "y_train.shape"
      ],
      "execution_count": 38,
      "outputs": [
        {
          "output_type": "execute_result",
          "data": {
            "text/plain": [
              "(1554604,)"
            ]
          },
          "metadata": {
            "tags": []
          },
          "execution_count": 38
        }
      ]
    },
    {
      "cell_type": "markdown",
      "metadata": {
        "id": "CWxZRix8OU68"
      },
      "source": [
        "# **Let's train the our ML model**"
      ]
    },
    {
      "cell_type": "code",
      "metadata": {
        "id": "PDQHbitwlsLf"
      },
      "source": [
        "from sklearn.linear_model import LogisticRegression"
      ],
      "execution_count": 39,
      "outputs": []
    },
    {
      "cell_type": "code",
      "metadata": {
        "id": "yKIX3ZJ9nfNG"
      },
      "source": [
        "lr = LogisticRegression()"
      ],
      "execution_count": 40,
      "outputs": []
    },
    {
      "cell_type": "code",
      "metadata": {
        "colab": {
          "base_uri": "https://localhost:8080/"
        },
        "id": "iHrORJ-cn3Gm",
        "outputId": "14e532fc-e97a-4295-d8ca-2aefc76b9610"
      },
      "source": [
        "model = LogisticRegression()\n",
        "model.fit(X_train , y_train)\n",
        "pred = model.predict(X_test)\n",
        "print ('-'*40)\n",
        "\n",
        "y_pred = model.predict(X_test)\n",
        "print('Accuracy = %0.4f'%np.mean(y_pred == y_test))\n",
        "# print ('Accuracy of Logistic Regression: {:.3f}'.format(Accuracy_score(pred , y_test)*100))\n",
        "print ('-'*40)\\\\"
      ],
      "execution_count": 41,
      "outputs": [
        {
          "output_type": "stream",
          "text": [
            "----------------------------------------\n",
            "Accuracy = 0.8579\n",
            "----------------------------------------\n"
          ],
          "name": "stdout"
        }
      ]
    },
    {
      "cell_type": "code",
      "metadata": {
        "colab": {
          "base_uri": "https://localhost:8080/"
        },
        "id": "spBxP1OA8mGq",
        "outputId": "f8baf927-061c-4e63-f9e6-5124c3a59ce8"
      },
      "source": [
        "from sklearn.ensemble import RandomForestClassifier\n",
        "model_RF = RandomForestClassifier() \n",
        "model_RF.fit(X_train , y_train)\n",
        "pred = model_RF.predict(X_test)\n",
        "print ('-'*40)\n",
        "\n",
        "y_pred = model_RF.predict(X_test)\n",
        "print('Accuracy = %0.4f'%np.mean(y_pred == y_test))\n",
        "# print ('Accuracy of RandomForestClassifier : {:.3f}'.format(Accuracy_score(pred , y_test)*100))\n",
        "print ('-'*40)\\\\"
      ],
      "execution_count": 42,
      "outputs": [
        {
          "output_type": "stream",
          "text": [
            "----------------------------------------\n",
            "Accuracy = 0.8580\n",
            "----------------------------------------\n"
          ],
          "name": "stdout"
        }
      ]
    },
    {
      "cell_type": "code",
      "metadata": {
        "id": "vm0SbsIEE0T8",
        "colab": {
          "base_uri": "https://localhost:8080/"
        },
        "outputId": "f7e768de-1503-4fc8-e074-13859dd422fb"
      },
      "source": [
        "from sklearn.ensemble import RandomForestClassifier\n",
        "\n",
        "model_RF = RandomForestClassifier(n_estimators=500, max_features=None, max_depth=6, bootstrap=True)\n",
        "model_RF.fit(X_train, y_train)\n",
        "print(\"Accuracy score of training data {} %:\".format(model_RF.score(X_train, y_train)*100))\n",
        "print(\"Accuracy score of testing data {} %\".format(model_RF.score(X_test, y_test)*100))"
      ],
      "execution_count": 43,
      "outputs": [
        {
          "output_type": "stream",
          "text": [
            "Accuracy score of training data 88.7777208858333 %:\n",
            "Accuracy score of testing data 88.87325791872668 %\n"
          ],
          "name": "stdout"
        }
      ]
    },
    {
      "cell_type": "code",
      "metadata": {
        "id": "7Gq0wEWIpVuh"
      },
      "source": [
        "import pickle\n",
        "pickle.dump(model,open('model.pkl','wb'))"
      ],
      "execution_count": 44,
      "outputs": []
    },
    {
      "cell_type": "markdown",
      "metadata": {
        "id": "Ys89LHoDUpfC"
      },
      "source": [
        "# **Our model is trained now Successfully now !**"
      ]
    },
    {
      "cell_type": "code",
      "metadata": {
        "id": "U0-9xXCUU0ya"
      },
      "source": [
        ""
      ],
      "execution_count": 44,
      "outputs": []
    }
  ]
}